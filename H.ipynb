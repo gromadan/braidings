{
 "cells": [
  {
   "cell_type": "code",
   "execution_count": 1,
   "id": "according-saturday",
   "metadata": {},
   "outputs": [
    {
     "data": {
      "text/plain": [
       "// ** loaded plin.lib \n",
       "// ** loaded /usr/bin/../share/singular/LIB/matrix.lib (4.1.2.0,Feb_2019)\n",
       "// ** loaded /usr/bin/../share/singular/LIB/nctools.lib (4.1.2.0,Feb_2019)\n",
       "// ** loaded /usr/bin/../share/singular/LIB/polylib.lib (4.2.0.0,Dec_2020)\n",
       "// ** loaded /usr/bin/../share/singular/LIB/general.lib (4.1.2.0,Feb_2019)\n",
       "// ** loaded /usr/bin/../share/singular/LIB/random.lib (4.1.2.0,Feb_2019)\n",
       "// ** loaded /usr/bin/../share/singular/LIB/ring.lib (4.1.2.0,Feb_2019)\n",
       "// ** loaded /usr/bin/../share/singular/LIB/primdec.lib (4.2.1.1,Jul_2021)\n",
       "// ** loaded /usr/bin/../share/singular/LIB/absfact.lib (4.1.2.0,Feb_2019)\n",
       "// ** loaded /usr/bin/../share/singular/LIB/triang.lib (4.1.2.0,Feb_2019)\n",
       "// ** loaded /usr/bin/../share/singular/LIB/elim.lib (4.1.2.0,Feb_2019)\n",
       "// ** loaded /usr/bin/../share/singular/LIB/inout.lib (4.1.2.0,Feb_2019)\n"
      ]
     },
     "execution_count": 1,
     "metadata": {},
     "output_type": "execute_result"
    }
   ],
   "source": [
    "LIB \"plin.lib\";\n",
    "plin_init();\n",
    "ring r=(0,n),(a,b),dp;"
   ]
  },
  {
   "cell_type": "code",
   "execution_count": 2,
   "id": "returning-transaction",
   "metadata": {},
   "outputs": [],
   "source": [
    "plin p=intvec(1,1,1,1);"
   ]
  },
  {
   "cell_type": "markdown",
   "id": "927210eb",
   "metadata": {},
   "source": [
    "Choose a number $q\\in\\mathbb{C}\\setminus\\{0\\}$ and $n:=-2(q^2+q^{-2}+1)$. Consinder the category $\\mathscr{C}$ of partitions with blocks of even size with respect to the loop parameter $t$ (removing a closed loop, we must multiply the result by $t$). I will use the word notation for partitions in the cyclic order, so e.g. $\\mathsf{abba}\\in\\mathscr{C}(2,2)$ is the identity on $\\mathscr{C}(2,2)$. Denote $\\bar{\\mathscr{C}}:=\\mathscr{C}/\\mathscr{N}$, where $\\mathscr{N}$ stands for negligible morphisms.\n",
    "\n",
    "By hand computation (that I talked about before Christmas), we have that $b=q\\,\\mathsf{abba}+q^{-1}\\,\\mathsf{aabb}-(q+q^{-1})\\,\\mathsf{aaaa}$ is a braiding in $\\bar{\\mathscr{C}}$ if and only if $p:=\\mathsf{aabbaa}-\\mathsf{abbbba}+n\\,\\mathsf{abbcca}-n\\,\\mathsf{aabbcc}+\\mathsf{aaaabb}-\\mathsf{abbaaa}+\\mathsf{aabbbb}-\\mathsf{aaabba}$ is negligible.\n",
    "\n",
    "Here, $p\\in\\mathscr{C}(k,l)$ is *negligible* if $\\mathop{\\rm Tr}(pq)=0$ for every $q\\in\\mathscr{C}(l,k)$. This is annoyingly complicated to check. But if we assume that the form $\\langle p,q\\rangle:=\\mathop{\\rm Tr}(p^*q)$ is positive, then $p$ is negligible if and only if $\\langle p,p\\rangle=\\mathop{\\rm Tr}(p^*p)=0$. This is convenient also because it is a necessary condition for the existence of a fibre functor. So, let's assume that."
   ]
  },
  {
   "cell_type": "code",
   "execution_count": 3,
   "id": "thick-spectacular",
   "metadata": {},
   "outputs": [],
   "source": [
    "p=\n",
    " plin(intvec(1,1,2,2,1,1))\n",
    "-plin(intvec(1,2,2,2,2,1))\n",
    "+n*plin(intvec(1,2,2,3,3,1))\n",
    "-n*plin(intvec(1,1,2,2,3,3))\n",
    "+plin(intvec(1,1,1,1,2,2))\n",
    "-plin(intvec(1,2,2,1,1,1))\n",
    "+plin(intvec(1,1,2,2,2,2))\n",
    "-plin(intvec(1,1,1,2,2,1));"
   ]
  },
  {
   "cell_type": "code",
   "execution_count": 4,
   "id": "turned-designation",
   "metadata": {},
   "outputs": [
    {
     "data": {
      "text/plain": [
       "(2n5-14n3+18n2-6n)\r\n"
      ]
     },
     "execution_count": 4,
     "metadata": {},
     "output_type": "execute_result"
    }
   ],
   "source": [
    "plin_inner2(p,p);"
   ]
  },
  {
   "cell_type": "markdown",
   "id": "eee4e52d",
   "metadata": {},
   "source": [
    "So, the result for the inner product is $\\langle p,p\\rangle=2n(n-1)(n^3+n^2-6n+3)$. This has five roots:\n",
    "\n",
    "  - $n=0$, which is quite uninteresting,\n",
    "  - $n=1$, which corresponds to the fact that $H_1^+=H_1$, so it is a group, so the category has a symmetric braiding,\n",
    "  - and three other roots which are approximately 1.59, 0.59, -3.18"
   ]
  },
  {
   "cell_type": "markdown",
   "id": "f1d55a17",
   "metadata": {},
   "source": [
    "The question is now, is our assumption of positive definiteness satisfied for these other three special values of $n$?\n",
    "\n",
    "The answer is no! (And, consequently, there is no fibre functor for these three values and hence no (quantum) group associated with the given braiding.)\n",
    "\n",
    "Well, the form cannot be positive definite, because then we would have no negligible morphisms. Since we assume, we have a negligible morphism, the form must be degenerate. And the possible values for $n$, when the form is degenerate (for some partitition size $k$) is known to be $4\\cos^2(j\\pi/l)$ (see Flake--Maassen). This is not our case here, so the partition $p$ we found is actually not negligible at all. To be honest, I am not exactly sure, how to show this directly. In any case, we can also compute the Gram matrix explicitly and show that some of its minors are negative for the given values of $n$."
   ]
  },
  {
   "cell_type": "code",
   "execution_count": 49,
   "id": "improved-gambling",
   "metadata": {},
   "outputs": [],
   "source": [
    "list l6=\n",
    "plin(intvec(1,1,2,2,3,3)), //1\n",
    "plin(intvec(1,1,2,3,3,2)), //2\n",
    "plin(intvec(1,2,2,1,3,3)), //3\n",
    "plin(intvec(1,2,3,3,2,1)), //4\n",
    "plin(intvec(1,2,2,3,3,1)), //5\n",
    "plin(intvec(1,1,1,1,2,2)), //6\n",
    "plin(intvec(1,1,1,2,2,1)), //7\n",
    "plin(intvec(1,1,2,2,1,1)), //8\n",
    "plin(intvec(1,2,2,1,1,1)), //9\n",
    "plin(intvec(1,1,2,2,2,2)), //10\n",
    "plin(intvec(1,2,2,2,2,1)), //11\n",
    "plin(intvec(1,1,1,1,1,1)); //12\n",
    "int i;\n",
    "int j;\n",
    "matrix m6[12][12];\n",
    "for (i=1;i<=12;i++){\n",
    "    for (j=1;j<=12;j++){\n",
    "        m6[i,j]=plin_inner2(l6[i],l6[j]);\n",
    "    }\n",
    "}"
   ]
  },
  {
   "cell_type": "code",
   "execution_count": 50,
   "id": "excellent-buffalo",
   "metadata": {},
   "outputs": [
    {
     "data": {
      "text/plain": [
       "(n^3),(n^2),(n^2),(n^2),(n),  (n^2),(n),  (n^2),(n),  (n^2),(n),  (n),\n",
       "(n^2),(n^3),(n),  (n),  (n^2),(n),  (n^2),(n),  (n),  (n^2),(n),  (n),\n",
       "(n^2),(n),  (n^3),(n),  (n^2),(n^2),(n),  (n),  (n^2),(n),  (n),  (n),\n",
       "(n^2),(n),  (n),  (n^3),(n^2),(n),  (n),  (n^2),(n),  (n),  (n^2),(n),\n",
       "(n),  (n^2),(n^2),(n^2),(n^3),(n),  (n^2),(n),  (n^2),(n),  (n^2),(n),\n",
       "(n^2),(n),  (n^2),(n),  (n),  (n^2),(n),  (n),  (n),  (n),  (n),  (n),\n",
       "(n),  (n^2),(n),  (n),  (n^2),(n),  (n^2),(n),  (n),  (n),  (n),  (n),\n",
       "(n^2),(n),  (n),  (n^2),(n),  (n),  (n),  (n^2),(n),  (n),  (n),  (n),\n",
       "(n),  (n),  (n^2),(n),  (n^2),(n),  (n),  (n),  (n^2),(n),  (n),  (n),\n",
       "(n^2),(n^2),(n),  (n),  (n),  (n),  (n),  (n),  (n),  (n^2),(n),  (n),\n",
       "(n),  (n),  (n),  (n^2),(n^2),(n),  (n),  (n),  (n),  (n),  (n^2),(n),\n",
       "(n),  (n),  (n),  (n),  (n),  (n),  (n),  (n),  (n),  (n),  (n),  (n) \n"
      ]
     },
     "execution_count": 50,
     "metadata": {},
     "output_type": "execute_result"
    }
   ],
   "source": [
    "print(m6);"
   ]
  },
  {
   "cell_type": "code",
   "execution_count": 51,
   "id": "accompanied-motion",
   "metadata": {},
   "outputs": [
    {
     "data": {
      "text/plain": [
       "(n^3)\n",
       "(n^6-n^4)\n",
       "(n^9-2*n^7+n^5)\n",
       "(n^12-3*n^10+3*n^8-n^6)\n",
       "(n^15-6*n^13+14*n^11-16*n^9+9*n^7-2*n^5)\n",
       "(n^17-2*n^16-4*n^15+10*n^14+4*n^13-18*n^12+2*n^11+14*n^10-5*n^9-4*n^8+2*n^7)\n",
       "(n^19-4*n^18+n^17+16*n^16-20*n^15-16*n^14+42*n^13-8*n^12-31*n^11+20*n^10+5*n^9-8*n^8+2*n^7)\n",
       "(n^21-6*n^20+10*n^19+10*n^18-52*n^17+46*n^16+42*n^15-106*n^14+55*n^13+32*n^12-52*n^11+24*n^10-4*n^9)\n",
       "(n^23-8*n^22+23*n^21-16*n^20-63*n^19+168*n^18-128*n^17-104*n^16+295*n^15-240*n^14+51*n^13+56*n^12-49*n^11+16*n^10-2*n^9)\n",
       "(n^25-10*n^24+40*n^23-70*n^22-9*n^21+288*n^20-570*n^19+420*n^18+255*n^17-922*n^16+1036*n^15-670*n^14+265*n^13-60*n^12+6*n^11)\n",
       "(n^27-12*n^26+60*n^25-148*n^24+107*n^23+432*n^22-1518*n^21+2200*n^20-1089*n^19-1804*n^18+4488*n^17-5028*n^16+3565*n^15-1688*n^14+522*n^13-96*n^12+8*n^11)\n",
       "(n^28-18*n^27+151*n^26-784*n^25+2821*n^24-7462*n^23+15015*n^22-23452*n^21+28743*n^20-27742*n^19+21021*n^18-12376*n^17+5551*n^16-1834*n^15+421*n^14-60*n^13+4*n^12)\n"
      ]
     },
     "execution_count": 51,
     "metadata": {},
     "output_type": "execute_result"
    }
   ],
   "source": [
    "short=0;\n",
    "for (i=1;i<=12;i++){\n",
    "    print(minor(m6,i,1));\n",
    "}"
   ]
  },
  {
   "cell_type": "markdown",
   "id": "0bb21420",
   "metadata": {},
   "source": [
    "Here, we computed all the leading minors. From the first one, it is clear that $n$ must be positive, so the root $-3.18$ is ruled out. The ninth one can be written as $n^9(n-1)^8(n^2-2)(n^2-n-1)(n^2-n+1)$, which is negative for both $n=0.59$ as well as $n=1.59$."
   ]
  },
  {
   "cell_type": "code",
   "execution_count": null,
   "id": "dd4f7fe7",
   "metadata": {},
   "outputs": [],
   "source": []
  }
 ],
 "metadata": {
  "kernelspec": {
   "display_name": "Singular",
   "language": "singular",
   "name": "singular"
  },
  "language_info": {
   "codemirror_mode": "singular",
   "file_extension": ".singular",
   "mimetype": "text/x-singular",
   "name": "Singular"
  }
 },
 "nbformat": 4,
 "nbformat_minor": 5
}
